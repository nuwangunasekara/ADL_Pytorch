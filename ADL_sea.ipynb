{
 "cells": [
  {
   "cell_type": "code",
   "execution_count": 1,
   "metadata": {},
   "outputs": [],
   "source": [
    "from ADLmainloop import ADLmain, ADLmainId\n",
    "from ADLbasic import ADL\n",
    "from utilsADL import dataLoader, plotPerformance\n",
    "import random\n",
    "import torch\n",
    "import numpy as np"
   ]
  },
  {
   "cell_type": "code",
   "execution_count": null,
   "metadata": {},
   "outputs": [],
   "source": []
  },
  {
   "cell_type": "code",
   "execution_count": 2,
   "metadata": {},
   "outputs": [],
   "source": [
    "# random seed control\n",
    "np.random.seed(0)\n",
    "torch.manual_seed(0)\n",
    "random.seed(0)"
   ]
  },
  {
   "cell_type": "code",
   "execution_count": null,
   "metadata": {},
   "outputs": [],
   "source": []
  },
  {
   "cell_type": "code",
   "execution_count": 3,
   "metadata": {},
   "outputs": [
    {
     "name": "stdout",
     "output_type": "stream",
     "text": [
      "Number of input:  3\n",
      "Number of output:  2\n",
      "Number of batch:  200\n"
     ]
    }
   ],
   "source": [
    "# load data\n",
    "dataStreams = dataLoader('../dataset/sea2.mat')"
   ]
  },
  {
   "cell_type": "code",
   "execution_count": 4,
   "metadata": {},
   "outputs": [
    {
     "name": "stdout",
     "output_type": "stream",
     "text": [
      "All labeled\n"
     ]
    }
   ],
   "source": [
    "print('All labeled')"
   ]
  },
  {
   "cell_type": "code",
   "execution_count": 5,
   "metadata": {},
   "outputs": [],
   "source": [
    "# initialization\n",
    "ADLnet = ADL(dataStreams.nInput,dataStreams.nOutput)"
   ]
  },
  {
   "cell_type": "code",
   "execution_count": 6,
   "metadata": {
    "scrolled": true
   },
   "outputs": [
    {
     "name": "stderr",
     "output_type": "stream",
     "text": [
      "100% (200 of 200) |######################| Elapsed Time: 0:05:50 ETA:  00:00:00"
     ]
    },
    {
     "name": "stdout",
     "output_type": "stream",
     "text": [
      "\n",
      "\n",
      "=== Performance result ===\n",
      "Accuracy:  92.47537688442212 (+/-) 6.88610477180749\n",
      "Testing Loss:  0.2420973918077784 (+/-) 0.174566812425013\n",
      "Precision:  0.9252151888619986\n",
      "Recall:  0.9247537688442211\n",
      "F1 score:  0.9240104512920709\n",
      "Testing Time:  0.005918990427525199 (+/-) 0.008276653128685746\n",
      "Training Time:  1.7508605688660588 (+/-) 0.2926501542096506\n",
      "\n",
      "\n",
      "=== Average network evolution ===\n",
      "Total hidden node:  11.557788944723619 (+/-) 4.318410643757607\n",
      "Number of layer:  1.0 (+/-) 0.0\n",
      "\n",
      "\n",
      "=== Final network structure ===\n",
      "basicNet(\n",
      "  (linear): Linear(in_features=3, out_features=19, bias=True)\n",
      "  (activation): Sigmoid()\n",
      "  (linearOutput): Linear(in_features=19, out_features=2, bias=True)\n",
      ")\n",
      "No. of inputs : 3\n",
      "No. of nodes : 19\n",
      "No. of parameters : 116\n",
      "Voting weight:  [1.0]\n"
     ]
    },
    {
     "ename": "ValueError",
     "evalue": "too many values to unpack (expected 2)",
     "output_type": "error",
     "traceback": [
      "\u001b[1;31m---------------------------------------------------------------------------\u001b[0m",
      "\u001b[1;31mValueError\u001b[0m                                Traceback (most recent call last)",
      "\u001b[1;32m<ipython-input-6-33163d192a80>\u001b[0m in \u001b[0;36m<module>\u001b[1;34m\u001b[0m\n\u001b[1;32m----> 1\u001b[1;33m \u001b[0mADLnet0\u001b[0m\u001b[1;33m,\u001b[0m \u001b[0mperformanceHistory0\u001b[0m \u001b[1;33m=\u001b[0m \u001b[0mADLmain\u001b[0m\u001b[1;33m(\u001b[0m\u001b[0mADLnet\u001b[0m\u001b[1;33m,\u001b[0m\u001b[0mdataStreams\u001b[0m\u001b[1;33m)\u001b[0m\u001b[1;33m\u001b[0m\u001b[1;33m\u001b[0m\u001b[0m\n\u001b[0m",
      "\u001b[1;31mValueError\u001b[0m: too many values to unpack (expected 2)"
     ]
    }
   ],
   "source": [
    "ADLnet0, performanceHistory0 = ADLmain(ADLnet,dataStreams)"
   ]
  },
  {
   "cell_type": "code",
   "execution_count": 7,
   "metadata": {
    "scrolled": false
   },
   "outputs": [
    {
     "ename": "NameError",
     "evalue": "name 'performanceHistory0' is not defined",
     "output_type": "error",
     "traceback": [
      "\u001b[1;31m---------------------------------------------------------------------------\u001b[0m",
      "\u001b[1;31mNameError\u001b[0m                                 Traceback (most recent call last)",
      "\u001b[1;32m<ipython-input-7-da227eff6ed6>\u001b[0m in \u001b[0;36m<module>\u001b[1;34m\u001b[0m\n\u001b[1;32m----> 1\u001b[1;33m plotPerformance(performanceHistory0[0],performanceHistory0[1],performanceHistory0[2],\n\u001b[0m\u001b[0;32m      2\u001b[0m                 performanceHistory0[3],performanceHistory0[4],performanceHistory0[5])\n",
      "\u001b[1;31mNameError\u001b[0m: name 'performanceHistory0' is not defined"
     ]
    }
   ],
   "source": [
    "plotPerformance(performanceHistory0[0],performanceHistory0[1],performanceHistory0[2],\n",
    "                performanceHistory0[3],performanceHistory0[4],performanceHistory0[5])"
   ]
  },
  {
   "cell_type": "code",
   "execution_count": null,
   "metadata": {},
   "outputs": [],
   "source": []
  },
  {
   "cell_type": "code",
   "execution_count": null,
   "metadata": {},
   "outputs": [],
   "source": [
    "# initialization\n",
    "ADLnet = ADL(dataStreams.nInput,dataStreams.nOutput)"
   ]
  },
  {
   "cell_type": "code",
   "execution_count": null,
   "metadata": {
    "scrolled": true
   },
   "outputs": [],
   "source": [
    "ADLnet1, performanceHistory1 = ADLmain(ADLnet,dataStreams)"
   ]
  },
  {
   "cell_type": "code",
   "execution_count": null,
   "metadata": {},
   "outputs": [],
   "source": [
    "plotPerformance(performanceHistory1[0],performanceHistory1[1],performanceHistory1[2],\n",
    "                performanceHistory1[3],performanceHistory1[4],performanceHistory1[5])"
   ]
  },
  {
   "cell_type": "code",
   "execution_count": null,
   "metadata": {},
   "outputs": [],
   "source": []
  },
  {
   "cell_type": "code",
   "execution_count": null,
   "metadata": {},
   "outputs": [],
   "source": [
    "# initialization\n",
    "ADLnet = ADL(dataStreams.nInput,dataStreams.nOutput)"
   ]
  },
  {
   "cell_type": "code",
   "execution_count": null,
   "metadata": {
    "scrolled": true
   },
   "outputs": [],
   "source": [
    "ADLnet2, performanceHistory2 = ADLmain(ADLnet,dataStreams)"
   ]
  },
  {
   "cell_type": "code",
   "execution_count": null,
   "metadata": {},
   "outputs": [],
   "source": [
    "plotPerformance(performanceHistory2[0],performanceHistory2[1],performanceHistory2[2],\n",
    "                performanceHistory2[3],performanceHistory2[4],performanceHistory2[5])"
   ]
  },
  {
   "cell_type": "code",
   "execution_count": null,
   "metadata": {},
   "outputs": [],
   "source": []
  },
  {
   "cell_type": "code",
   "execution_count": null,
   "metadata": {},
   "outputs": [],
   "source": [
    "# initialization\n",
    "ADLnet = ADL(dataStreams.nInput,dataStreams.nOutput)"
   ]
  },
  {
   "cell_type": "code",
   "execution_count": null,
   "metadata": {
    "scrolled": true
   },
   "outputs": [],
   "source": [
    "ADLnet3, performanceHistory3 = ADLmain(ADLnet,dataStreams)"
   ]
  },
  {
   "cell_type": "code",
   "execution_count": null,
   "metadata": {},
   "outputs": [],
   "source": [
    "plotPerformance(performanceHistory3[0],performanceHistory3[1],performanceHistory3[2],\n",
    "                performanceHistory3[3],performanceHistory3[4],performanceHistory3[5])"
   ]
  },
  {
   "cell_type": "code",
   "execution_count": null,
   "metadata": {},
   "outputs": [],
   "source": []
  },
  {
   "cell_type": "code",
   "execution_count": null,
   "metadata": {},
   "outputs": [],
   "source": [
    "# initialization\n",
    "ADLnet = ADL(dataStreams.nInput,dataStreams.nOutput)"
   ]
  },
  {
   "cell_type": "code",
   "execution_count": null,
   "metadata": {
    "scrolled": true
   },
   "outputs": [],
   "source": [
    "ADLnet4, performanceHistory4 = ADLmain(ADLnet,dataStreams)"
   ]
  },
  {
   "cell_type": "code",
   "execution_count": null,
   "metadata": {},
   "outputs": [],
   "source": [
    "plotPerformance(performanceHistory4[0],performanceHistory4[1],performanceHistory4[2],\n",
    "                performanceHistory4[3],performanceHistory4[4],performanceHistory4[5])"
   ]
  },
  {
   "cell_type": "code",
   "execution_count": null,
   "metadata": {},
   "outputs": [],
   "source": []
  },
  {
   "cell_type": "code",
   "execution_count": null,
   "metadata": {},
   "outputs": [],
   "source": [
    "# average performance\n",
    "print('Mean Accuracy: ', np.mean([performanceHistory0[1][1:]+performanceHistory1[1][1:]+\n",
    "                                 performanceHistory2[1][1:]+performanceHistory3[1][1:]+\n",
    "                                 performanceHistory4[1][1:]]))\n",
    "print('Std Accuracy: ', np.std([performanceHistory0[1][1:]+performanceHistory1[1][1:]+\n",
    "                                 performanceHistory2[1][1:]+performanceHistory3[1][1:]+\n",
    "                                 performanceHistory4[1][1:]]))\n",
    "\n",
    "print('Hidden Node mean', np.mean([performanceHistory0[3][1:]+performanceHistory1[3][1:]+\n",
    "                                 performanceHistory2[3][1:]+performanceHistory3[3][1:]+\n",
    "                                 performanceHistory4[3][1:]]))\n",
    "print('Hidden Node std: ', np.std([performanceHistory0[3][1:]+performanceHistory1[3][1:]+\n",
    "                                 performanceHistory2[3][1:]+performanceHistory3[3][1:]+\n",
    "                                 performanceHistory4[3][1:]]))\n",
    "\n",
    "print('Hidden Layer mean: ', np.mean([performanceHistory0[4][1:]+performanceHistory1[4][1:]+\n",
    "                                 performanceHistory2[4][1:]+performanceHistory3[4][1:]+\n",
    "                                 performanceHistory4[4][1:]]))\n",
    "print('Hidden Layer std: ', np.std([performanceHistory0[4][1:]+performanceHistory1[4][1:]+\n",
    "                                 performanceHistory2[4][1:]+performanceHistory3[4][1:]+\n",
    "                                 performanceHistory4[4][1:]]))"
   ]
  },
  {
   "cell_type": "code",
   "execution_count": null,
   "metadata": {},
   "outputs": [],
   "source": []
  },
  {
   "cell_type": "markdown",
   "metadata": {},
   "source": [
    "### 50% labeled data"
   ]
  },
  {
   "cell_type": "code",
   "execution_count": null,
   "metadata": {},
   "outputs": [],
   "source": [
    "## dataset\n",
    "# sea\n",
    "# hyperplane\n",
    "# weather\n",
    "# rfid\n",
    "# permutedMnist\n",
    "# rotatedMnist\n",
    "# susy\n",
    "# hepmass"
   ]
  },
  {
   "cell_type": "code",
   "execution_count": null,
   "metadata": {},
   "outputs": [],
   "source": [
    "print('50% labeled')"
   ]
  },
  {
   "cell_type": "code",
   "execution_count": null,
   "metadata": {},
   "outputs": [],
   "source": [
    "# initialization\n",
    "ADLnet = ADL(dataStreams.nInput,dataStreams.nOutput)"
   ]
  },
  {
   "cell_type": "code",
   "execution_count": null,
   "metadata": {
    "scrolled": true
   },
   "outputs": [],
   "source": [
    "ADLnet0, performanceHistory0 = ADLmain(ADLnet,dataStreams,labeled = False, nLabeled = 0.5)"
   ]
  },
  {
   "cell_type": "code",
   "execution_count": null,
   "metadata": {
    "scrolled": false
   },
   "outputs": [],
   "source": [
    "plotPerformance(performanceHistory0[0],performanceHistory0[1],performanceHistory0[2],\n",
    "                performanceHistory0[3],performanceHistory0[4],performanceHistory0[5])"
   ]
  },
  {
   "cell_type": "code",
   "execution_count": null,
   "metadata": {},
   "outputs": [],
   "source": []
  },
  {
   "cell_type": "code",
   "execution_count": null,
   "metadata": {},
   "outputs": [],
   "source": [
    "# initialization\n",
    "ADLnet = ADL(dataStreams.nInput,dataStreams.nOutput)"
   ]
  },
  {
   "cell_type": "code",
   "execution_count": null,
   "metadata": {
    "scrolled": true
   },
   "outputs": [],
   "source": [
    "ADLnet1, performanceHistory1 = ADLmain(ADLnet,dataStreams,labeled = False, nLabeled = 0.5)"
   ]
  },
  {
   "cell_type": "code",
   "execution_count": null,
   "metadata": {},
   "outputs": [],
   "source": [
    "plotPerformance(performanceHistory1[0],performanceHistory1[1],performanceHistory1[2],\n",
    "                performanceHistory1[3],performanceHistory1[4],performanceHistory1[5])"
   ]
  },
  {
   "cell_type": "code",
   "execution_count": null,
   "metadata": {},
   "outputs": [],
   "source": []
  },
  {
   "cell_type": "code",
   "execution_count": null,
   "metadata": {},
   "outputs": [],
   "source": [
    "# initialization\n",
    "ADLnet = ADL(dataStreams.nInput,dataStreams.nOutput)"
   ]
  },
  {
   "cell_type": "code",
   "execution_count": null,
   "metadata": {
    "scrolled": true
   },
   "outputs": [],
   "source": [
    "ADLnet2, performanceHistory2 = ADLmain(ADLnet,dataStreams,labeled = False, nLabeled = 0.5)"
   ]
  },
  {
   "cell_type": "code",
   "execution_count": null,
   "metadata": {},
   "outputs": [],
   "source": [
    "plotPerformance(performanceHistory2[0],performanceHistory2[1],performanceHistory2[2],\n",
    "                performanceHistory2[3],performanceHistory2[4],performanceHistory2[5])"
   ]
  },
  {
   "cell_type": "code",
   "execution_count": null,
   "metadata": {},
   "outputs": [],
   "source": []
  },
  {
   "cell_type": "code",
   "execution_count": null,
   "metadata": {},
   "outputs": [],
   "source": [
    "# initialization\n",
    "ADLnet = ADL(dataStreams.nInput,dataStreams.nOutput)"
   ]
  },
  {
   "cell_type": "code",
   "execution_count": null,
   "metadata": {
    "scrolled": true
   },
   "outputs": [],
   "source": [
    "ADLnet3, performanceHistory3 = ADLmain(ADLnet,dataStreams,labeled = False, nLabeled = 0.5)"
   ]
  },
  {
   "cell_type": "code",
   "execution_count": null,
   "metadata": {},
   "outputs": [],
   "source": [
    "plotPerformance(performanceHistory3[0],performanceHistory3[1],performanceHistory3[2],\n",
    "                performanceHistory3[3],performanceHistory3[4],performanceHistory3[5])"
   ]
  },
  {
   "cell_type": "code",
   "execution_count": null,
   "metadata": {},
   "outputs": [],
   "source": []
  },
  {
   "cell_type": "code",
   "execution_count": null,
   "metadata": {},
   "outputs": [],
   "source": [
    "# initialization\n",
    "ADLnet = ADL(dataStreams.nInput,dataStreams.nOutput)"
   ]
  },
  {
   "cell_type": "code",
   "execution_count": null,
   "metadata": {
    "scrolled": true
   },
   "outputs": [],
   "source": [
    "ADLnet4, performanceHistory4 = ADLmain(ADLnet,dataStreams,labeled = False, nLabeled = 0.5)"
   ]
  },
  {
   "cell_type": "code",
   "execution_count": null,
   "metadata": {},
   "outputs": [],
   "source": [
    "plotPerformance(performanceHistory4[0],performanceHistory4[1],performanceHistory4[2],\n",
    "                performanceHistory4[3],performanceHistory4[4],performanceHistory4[5])"
   ]
  },
  {
   "cell_type": "code",
   "execution_count": null,
   "metadata": {},
   "outputs": [],
   "source": []
  },
  {
   "cell_type": "code",
   "execution_count": null,
   "metadata": {},
   "outputs": [],
   "source": [
    "# average performance\n",
    "print('Mean Accuracy: ', np.mean([performanceHistory0[1][1:]+performanceHistory1[1][1:]+\n",
    "                                 performanceHistory2[1][1:]+performanceHistory3[1][1:]+\n",
    "                                 performanceHistory4[1][1:]]))\n",
    "print('Std Accuracy: ', np.std([performanceHistory0[1][1:]+performanceHistory1[1][1:]+\n",
    "                                 performanceHistory2[1][1:]+performanceHistory3[1][1:]+\n",
    "                                 performanceHistory4[1][1:]]))\n",
    "\n",
    "print('Hidden Node mean', np.mean([performanceHistory0[3][1:]+performanceHistory1[3][1:]+\n",
    "                                 performanceHistory2[3][1:]+performanceHistory3[3][1:]+\n",
    "                                 performanceHistory4[3][1:]]))\n",
    "print('Hidden Node std: ', np.std([performanceHistory0[3][1:]+performanceHistory1[3][1:]+\n",
    "                                 performanceHistory2[3][1:]+performanceHistory3[3][1:]+\n",
    "                                 performanceHistory4[3][1:]]))\n",
    "\n",
    "print('Hidden Layer mean: ', np.mean([performanceHistory0[4][1:]+performanceHistory1[4][1:]+\n",
    "                                 performanceHistory2[4][1:]+performanceHistory3[4][1:]+\n",
    "                                 performanceHistory4[4][1:]]))\n",
    "print('Hidden Layer std: ', np.std([performanceHistory0[4][1:]+performanceHistory1[4][1:]+\n",
    "                                 performanceHistory2[4][1:]+performanceHistory3[4][1:]+\n",
    "                                 performanceHistory4[4][1:]]))"
   ]
  },
  {
   "cell_type": "code",
   "execution_count": null,
   "metadata": {},
   "outputs": [],
   "source": []
  },
  {
   "cell_type": "code",
   "execution_count": null,
   "metadata": {},
   "outputs": [],
   "source": []
  },
  {
   "cell_type": "markdown",
   "metadata": {},
   "source": [
    "### 25% Labeled Data"
   ]
  },
  {
   "cell_type": "code",
   "execution_count": null,
   "metadata": {},
   "outputs": [],
   "source": [
    "print('25% labeled')"
   ]
  },
  {
   "cell_type": "code",
   "execution_count": null,
   "metadata": {},
   "outputs": [],
   "source": [
    "# initialization\n",
    "ADLnet = ADL(dataStreams.nInput,dataStreams.nOutput)"
   ]
  },
  {
   "cell_type": "code",
   "execution_count": null,
   "metadata": {
    "scrolled": true
   },
   "outputs": [],
   "source": [
    "ADLnet0, performanceHistory0 = ADLmain(ADLnet,dataStreams,labeled = False, nLabeled = 0.25)"
   ]
  },
  {
   "cell_type": "code",
   "execution_count": null,
   "metadata": {
    "scrolled": false
   },
   "outputs": [],
   "source": [
    "plotPerformance(performanceHistory0[0],performanceHistory0[1],performanceHistory0[2],\n",
    "                performanceHistory0[3],performanceHistory0[4],performanceHistory0[5])"
   ]
  },
  {
   "cell_type": "code",
   "execution_count": null,
   "metadata": {},
   "outputs": [],
   "source": []
  },
  {
   "cell_type": "code",
   "execution_count": null,
   "metadata": {},
   "outputs": [],
   "source": [
    "# initialization\n",
    "ADLnet = ADL(dataStreams.nInput,dataStreams.nOutput)"
   ]
  },
  {
   "cell_type": "code",
   "execution_count": null,
   "metadata": {
    "scrolled": true
   },
   "outputs": [],
   "source": [
    "ADLnet1, performanceHistory1 = ADLmain(ADLnet,dataStreams,labeled = False, nLabeled = 0.25)"
   ]
  },
  {
   "cell_type": "code",
   "execution_count": null,
   "metadata": {},
   "outputs": [],
   "source": [
    "plotPerformance(performanceHistory1[0],performanceHistory1[1],performanceHistory1[2],\n",
    "                performanceHistory1[3],performanceHistory1[4],performanceHistory1[5])"
   ]
  },
  {
   "cell_type": "code",
   "execution_count": null,
   "metadata": {},
   "outputs": [],
   "source": []
  },
  {
   "cell_type": "code",
   "execution_count": null,
   "metadata": {},
   "outputs": [],
   "source": [
    "# initialization\n",
    "ADLnet = ADL(dataStreams.nInput,dataStreams.nOutput)"
   ]
  },
  {
   "cell_type": "code",
   "execution_count": null,
   "metadata": {
    "scrolled": true
   },
   "outputs": [],
   "source": [
    "ADLnet2, performanceHistory2 = ADLmain(ADLnet,dataStreams,labeled = False, nLabeled = 0.25)"
   ]
  },
  {
   "cell_type": "code",
   "execution_count": null,
   "metadata": {},
   "outputs": [],
   "source": [
    "plotPerformance(performanceHistory2[0],performanceHistory2[1],performanceHistory2[2],\n",
    "                performanceHistory2[3],performanceHistory2[4],performanceHistory2[5])"
   ]
  },
  {
   "cell_type": "code",
   "execution_count": null,
   "metadata": {},
   "outputs": [],
   "source": []
  },
  {
   "cell_type": "code",
   "execution_count": null,
   "metadata": {},
   "outputs": [],
   "source": [
    "# initialization\n",
    "ADLnet = ADL(dataStreams.nInput,dataStreams.nOutput)"
   ]
  },
  {
   "cell_type": "code",
   "execution_count": null,
   "metadata": {
    "scrolled": true
   },
   "outputs": [],
   "source": [
    "ADLnet3, performanceHistory3 = ADLmain(ADLnet,dataStreams,labeled = False, nLabeled = 0.25)"
   ]
  },
  {
   "cell_type": "code",
   "execution_count": null,
   "metadata": {},
   "outputs": [],
   "source": [
    "plotPerformance(performanceHistory3[0],performanceHistory3[1],performanceHistory3[2],\n",
    "                performanceHistory3[3],performanceHistory3[4],performanceHistory3[5])"
   ]
  },
  {
   "cell_type": "code",
   "execution_count": null,
   "metadata": {},
   "outputs": [],
   "source": []
  },
  {
   "cell_type": "code",
   "execution_count": null,
   "metadata": {},
   "outputs": [],
   "source": [
    "# initialization\n",
    "ADLnet = ADL(dataStreams.nInput,dataStreams.nOutput)"
   ]
  },
  {
   "cell_type": "code",
   "execution_count": null,
   "metadata": {
    "scrolled": true
   },
   "outputs": [],
   "source": [
    "ADLnet4, performanceHistory4 = ADLmain(ADLnet,dataStreams,labeled = False, nLabeled = 0.25)"
   ]
  },
  {
   "cell_type": "code",
   "execution_count": null,
   "metadata": {},
   "outputs": [],
   "source": [
    "plotPerformance(performanceHistory4[0],performanceHistory4[1],performanceHistory4[2],\n",
    "                performanceHistory4[3],performanceHistory4[4],performanceHistory4[5])"
   ]
  },
  {
   "cell_type": "code",
   "execution_count": null,
   "metadata": {},
   "outputs": [],
   "source": []
  },
  {
   "cell_type": "code",
   "execution_count": null,
   "metadata": {},
   "outputs": [],
   "source": [
    "# average performance\n",
    "print('Mean Accuracy: ', np.mean([performanceHistory0[1][1:]+performanceHistory1[1][1:]+\n",
    "                                 performanceHistory2[1][1:]+performanceHistory3[1][1:]+\n",
    "                                 performanceHistory4[1][1:]]))\n",
    "print('Std Accuracy: ', np.std([performanceHistory0[1][1:]+performanceHistory1[1][1:]+\n",
    "                                 performanceHistory2[1][1:]+performanceHistory3[1][1:]+\n",
    "                                 performanceHistory4[1][1:]]))\n",
    "\n",
    "print('Hidden Node mean', np.mean([performanceHistory0[3][1:]+performanceHistory1[3][1:]+\n",
    "                                 performanceHistory2[3][1:]+performanceHistory3[3][1:]+\n",
    "                                 performanceHistory4[3][1:]]))\n",
    "print('Hidden Node std: ', np.std([performanceHistory0[3][1:]+performanceHistory1[3][1:]+\n",
    "                                 performanceHistory2[3][1:]+performanceHistory3[3][1:]+\n",
    "                                 performanceHistory4[3][1:]]))\n",
    "\n",
    "print('Hidden Layer mean: ', np.mean([performanceHistory0[4][1:]+performanceHistory1[4][1:]+\n",
    "                                 performanceHistory2[4][1:]+performanceHistory3[4][1:]+\n",
    "                                 performanceHistory4[4][1:]]))\n",
    "print('Hidden Layer std: ', np.std([performanceHistory0[4][1:]+performanceHistory1[4][1:]+\n",
    "                                 performanceHistory2[4][1:]+performanceHistory3[4][1:]+\n",
    "                                 performanceHistory4[4][1:]]))"
   ]
  },
  {
   "cell_type": "code",
   "execution_count": null,
   "metadata": {},
   "outputs": [],
   "source": []
  },
  {
   "cell_type": "code",
   "execution_count": null,
   "metadata": {},
   "outputs": [],
   "source": []
  },
  {
   "cell_type": "markdown",
   "metadata": {},
   "source": [
    "### Infinite Delay"
   ]
  },
  {
   "cell_type": "code",
   "execution_count": null,
   "metadata": {},
   "outputs": [],
   "source": [
    "print('Infinite Delay')"
   ]
  },
  {
   "cell_type": "code",
   "execution_count": null,
   "metadata": {},
   "outputs": [],
   "source": [
    "# initialization\n",
    "ADLnet = ADL(dataStreams.nInput,dataStreams.nOutput)"
   ]
  },
  {
   "cell_type": "code",
   "execution_count": null,
   "metadata": {
    "scrolled": true
   },
   "outputs": [],
   "source": [
    "ADLnet0, performanceHistory0 = ADLmainId(ADLnet,dataStreams)"
   ]
  },
  {
   "cell_type": "code",
   "execution_count": null,
   "metadata": {
    "scrolled": false
   },
   "outputs": [],
   "source": [
    "plotPerformance(performanceHistory0[0],performanceHistory0[1],performanceHistory0[2],\n",
    "                performanceHistory0[3],performanceHistory0[4],performanceHistory0[5])"
   ]
  },
  {
   "cell_type": "code",
   "execution_count": null,
   "metadata": {},
   "outputs": [],
   "source": []
  },
  {
   "cell_type": "code",
   "execution_count": null,
   "metadata": {},
   "outputs": [],
   "source": [
    "# initialization\n",
    "ADLnet = ADL(dataStreams.nInput,dataStreams.nOutput)"
   ]
  },
  {
   "cell_type": "code",
   "execution_count": null,
   "metadata": {
    "scrolled": true
   },
   "outputs": [],
   "source": [
    "ADLnet1, performanceHistory1 = ADLmainId(ADLnet,dataStreams)"
   ]
  },
  {
   "cell_type": "code",
   "execution_count": null,
   "metadata": {},
   "outputs": [],
   "source": [
    "plotPerformance(performanceHistory1[0],performanceHistory1[1],performanceHistory1[2],\n",
    "                performanceHistory1[3],performanceHistory1[4],performanceHistory1[5])"
   ]
  },
  {
   "cell_type": "code",
   "execution_count": null,
   "metadata": {},
   "outputs": [],
   "source": []
  },
  {
   "cell_type": "code",
   "execution_count": null,
   "metadata": {},
   "outputs": [],
   "source": [
    "# initialization\n",
    "ADLnet = ADL(dataStreams.nInput,dataStreams.nOutput)"
   ]
  },
  {
   "cell_type": "code",
   "execution_count": null,
   "metadata": {
    "scrolled": true
   },
   "outputs": [],
   "source": [
    "ADLnet2, performanceHistory2 = ADLmainId(ADLnet,dataStreams)"
   ]
  },
  {
   "cell_type": "code",
   "execution_count": null,
   "metadata": {},
   "outputs": [],
   "source": [
    "plotPerformance(performanceHistory2[0],performanceHistory2[1],performanceHistory2[2],\n",
    "                performanceHistory2[3],performanceHistory2[4],performanceHistory2[5])"
   ]
  },
  {
   "cell_type": "code",
   "execution_count": null,
   "metadata": {},
   "outputs": [],
   "source": []
  },
  {
   "cell_type": "code",
   "execution_count": null,
   "metadata": {},
   "outputs": [],
   "source": [
    "# initialization\n",
    "ADLnet = ADL(dataStreams.nInput,dataStreams.nOutput)"
   ]
  },
  {
   "cell_type": "code",
   "execution_count": null,
   "metadata": {
    "scrolled": true
   },
   "outputs": [],
   "source": [
    "ADLnet3, performanceHistory3 = ADLmainId(ADLnet,dataStreams)"
   ]
  },
  {
   "cell_type": "code",
   "execution_count": null,
   "metadata": {},
   "outputs": [],
   "source": [
    "plotPerformance(performanceHistory3[0],performanceHistory3[1],performanceHistory3[2],\n",
    "                performanceHistory3[3],performanceHistory3[4],performanceHistory3[5])"
   ]
  },
  {
   "cell_type": "code",
   "execution_count": null,
   "metadata": {},
   "outputs": [],
   "source": []
  },
  {
   "cell_type": "code",
   "execution_count": null,
   "metadata": {},
   "outputs": [],
   "source": [
    "# initialization\n",
    "ADLnet = ADL(dataStreams.nInput,dataStreams.nOutput)"
   ]
  },
  {
   "cell_type": "code",
   "execution_count": null,
   "metadata": {
    "scrolled": true
   },
   "outputs": [],
   "source": [
    "ADLnet4, performanceHistory4 = ADLmainId(ADLnet,dataStreams)"
   ]
  },
  {
   "cell_type": "code",
   "execution_count": null,
   "metadata": {},
   "outputs": [],
   "source": [
    "plotPerformance(performanceHistory4[0],performanceHistory4[1],performanceHistory4[2],\n",
    "                performanceHistory4[3],performanceHistory4[4],performanceHistory4[5])"
   ]
  },
  {
   "cell_type": "code",
   "execution_count": null,
   "metadata": {},
   "outputs": [],
   "source": []
  },
  {
   "cell_type": "code",
   "execution_count": null,
   "metadata": {},
   "outputs": [],
   "source": [
    "# average performance\n",
    "print('Mean Accuracy: ', np.mean([performanceHistory0[1][1:]+performanceHistory1[1][1:]+\n",
    "                                 performanceHistory2[1][1:]+performanceHistory3[1][1:]+\n",
    "                                 performanceHistory4[1][1:]]))\n",
    "print('Std Accuracy: ', np.std([performanceHistory0[1][1:]+performanceHistory1[1][1:]+\n",
    "                                 performanceHistory2[1][1:]+performanceHistory3[1][1:]+\n",
    "                                 performanceHistory4[1][1:]]))\n",
    "\n",
    "print('Hidden Node mean', np.mean([performanceHistory0[3][1:]+performanceHistory1[3][1:]+\n",
    "                                 performanceHistory2[3][1:]+performanceHistory3[3][1:]+\n",
    "                                 performanceHistory4[3][1:]]))\n",
    "print('Hidden Node std: ', np.std([performanceHistory0[3][1:]+performanceHistory1[3][1:]+\n",
    "                                 performanceHistory2[3][1:]+performanceHistory3[3][1:]+\n",
    "                                 performanceHistory4[3][1:]]))\n",
    "\n",
    "print('Hidden Layer mean: ', np.mean([performanceHistory0[4][1:]+performanceHistory1[4][1:]+\n",
    "                                 performanceHistory2[4][1:]+performanceHistory3[4][1:]+\n",
    "                                 performanceHistory4[4][1:]]))\n",
    "print('Hidden Layer std: ', np.std([performanceHistory0[4][1:]+performanceHistory1[4][1:]+\n",
    "                                 performanceHistory2[4][1:]+performanceHistory3[4][1:]+\n",
    "                                 performanceHistory4[4][1:]]))"
   ]
  },
  {
   "cell_type": "code",
   "execution_count": null,
   "metadata": {},
   "outputs": [],
   "source": []
  }
 ],
 "metadata": {
  "kernelspec": {
   "display_name": "Python 3",
   "language": "python",
   "name": "python3"
  },
  "language_info": {
   "codemirror_mode": {
    "name": "ipython",
    "version": 3
   },
   "file_extension": ".py",
   "mimetype": "text/x-python",
   "name": "python",
   "nbconvert_exporter": "python",
   "pygments_lexer": "ipython3",
   "version": "3.8.3"
  }
 },
 "nbformat": 4,
 "nbformat_minor": 4
}
